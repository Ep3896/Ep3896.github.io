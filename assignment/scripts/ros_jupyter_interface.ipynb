{
 "cells": [
  {
   "cell_type": "code",
   "execution_count": null,
   "id": "85954762",
   "metadata": {
    "ExecuteTime": {
     "end_time": "2023-06-01T17:58:47.153861Z",
     "start_time": "2023-06-01T17:58:46.464934Z"
    }
   },
   "outputs": [],
   "source": [
    "%matplotlib notebook \n",
    "import rospy\n",
    "import actionlib\n",
    "import actionlib.msg\n",
    "import assignment_2_2022.msg\n",
    "import jupyros\n",
    "import time\n",
    "import sys\n",
    "import select\n",
    "import os\n",
    "import numpy as np\n",
    "import matplotlib.pyplot as plt\n",
    "from std_msgs.msg import String, Int32\n",
    "from geometry_msgs.msg import PoseStamped\n",
    "from geometry_msgs.msg import Point, Pose, Twist\n",
    "from nav_msgs.msg import Odometry"
   ]
  },
  {
   "cell_type": "code",
   "execution_count": null,
   "id": "19cadb4d",
   "metadata": {},
   "outputs": [],
   "source": [
    "from move_base_msgs.msg import MoveBaseAction, MoveBaseGoal, MoveBaseResult\n",
    "from actionlib_msgs.msg import GoalStatus\n",
    "from sensor_msgs.msg  import LaserScan\n",
    "from enrico_second_assignment.msg import odom_custom_msg\n",
    "import assignment_2_2022.msg\n",
    "from assignment_2_2022.msg import My_pos_vel, PlanningActionGoal, PlanningAction, PlanningGoal\n",
    "from assignment_2_2022.srv import Goals_number, Goals_numberRequest, Goals_numberResponse"
   ]
  },
  {
   "cell_type": "code",
   "execution_count": null,
   "id": "586a95ca",
   "metadata": {
    "ExecuteTime": {
     "end_time": "2023-06-01T17:58:47.313807Z",
     "start_time": "2023-06-01T17:58:47.155410Z"
    }
   },
   "outputs": [],
   "source": [
    "import matplotlib.pyplot as plt\n",
    "from IPython.display import display\n",
    "from matplotlib.backends.backend_agg import FigureCanvasAgg as FigureCanvas\n",
    "from matplotlib.figure import Figure\n",
    "from matplotlib.widgets import Button\n",
    "from matplotlib.animation import FuncAnimation\n",
    "import threading\n",
    "from std_srvs.srv import *"
   ]
  },
  {
   "cell_type": "code",
   "execution_count": 3,
   "id": "dbcf60b5",
   "metadata": {
    "ExecuteTime": {
     "end_time": "2023-06-01T17:58:47.318156Z",
     "start_time": "2023-06-01T17:58:47.315385Z"
    }
   },
   "outputs": [],
   "source": [
    "from ipywidgets import Button, Layout, ButtonStyle, GridBox, VBox, HBox\n",
    "import ipywidgets as widgets"
   ]
  },
  {
   "cell_type": "code",
   "execution_count": 4,
   "id": "8c67175c",
   "metadata": {
    "ExecuteTime": {
     "end_time": "2023-06-01T17:59:03.728741Z",
     "start_time": "2023-06-01T17:58:47.320041Z"
    }
   },
   "outputs": [
    {
     "name": "stdout",
     "output_type": "stream",
     "text": [
      "Unable to register with master node [http://localhost:11311]: master may not be running yet. Will keep trying.\n"
     ]
    }
   ],
   "source": [
    "#Initialize the client node\n",
    "rospy.init_node('ros_jupyter_interface')"
   ]
  },
  {
   "cell_type": "code",
   "execution_count": 5,
   "id": "2743c5e9",
   "metadata": {
    "ExecuteTime": {
     "end_time": "2023-06-01T17:59:03.733828Z",
     "start_time": "2023-06-01T17:59:03.730859Z"
    }
   },
   "outputs": [],
   "source": [
    "#instanciating the counters\n",
    "goal_reached = 0\n",
    "obstacle_distance=0\n",
    "targets_cancelled=0"
   ]
  },
  {
   "cell_type": "code",
   "execution_count": null,
   "id": "84568a37",
   "metadata": {},
   "outputs": [],
   "source": [
    "#instanciating global variables\n",
    "x_coord= []\n",
    "y_coord=[]"
   ]
  },
  {
   "cell_type": "code",
   "execution_count": 6,
   "id": "9c434d5f",
   "metadata": {
    "ExecuteTime": {
     "end_time": "2023-06-01T17:59:03.763131Z",
     "start_time": "2023-06-01T17:59:03.735666Z"
    }
   },
   "outputs": [],
   "source": [
    "def laser_callback(laser_scan):\n",
    "    # Find closest obstacle\n",
    "    min_range = min(laser_scan.ranges)\n",
    "    if min_range == float('inf'):\n",
    "        obstacle_distance = 'Infinity'\n",
    "    else:\n",
    "        obstacle_distance = '{:.1f}'.format(min_range)\n",
    "    # Update GUI\n",
    "    obstacle_distance_text.value = obstacle_distance\n",
    "\n",
    "# Update the robot position plot and the text boxes\n",
    "def update_plot(frame):\n",
    "    ln.set_data(x_coord, y_coord)\n",
    "    global target_counts\n",
    "    target_counts = [goal_reached, targets_cancelled]\n",
    "    for rect, count in zip(bar_plot.patches, target_counts):\n",
    "        rect.set_height(count)\n",
    "    fig.canvas.draw()\n",
    "    return ln,\n",
    "\n",
    "def position_callback(msg):\n",
    "    global x_coord, y_coord\n",
    "    # Retrieve the actual position\n",
    "    x = msg.x\n",
    "    y = msg.y\n",
    "    robot_position_text.value = '({:.2f}, {:.2f})'.format(x, y)\n",
    "    x_coord.append(x)\n",
    "    y_coord.append(y)\n",
    "\n",
    "def callback_result(msg):\n",
    "    status = msg.status.status\n",
    "    # If status = 3, the goal is reached\n",
    "    if status == 3:\n",
    "        increase_reached_targets()\n",
    "    # If status = 2, the goal is cancelled\n",
    "    elif status == 2:\n",
    "        increase_not_reached_targets()\n",
    "\n",
    "#Callback function for the subscriber to the /reached_targets topic\n",
    "def increase_reached_targets():\n",
    "    global target_counts\n",
    "    global goal_reached\n",
    "    reached_targets += 1\n",
    "\n",
    "#Callback function for the subscriber to the /not_reached_targets topic\n",
    "def increase_not_reached_targets():\n",
    "    global target_counts\n",
    "    global targets_cancelled\n",
    "    targets_cancelled += 1\n",
    "    \n",
    "def goal_callback(msg):\n",
    "    # Process the received goal message\n",
    "    x = msg.client_goal.target_pose.pose.position.x\n",
    "    y = msg.client_goal.target_pose.pose.position.y\n",
    "    # Plot the target\n",
    "    ax1.plot(x, y, 'bo') "
   ]
  },
  {
   "cell_type": "code",
   "execution_count": null,
   "id": "cfa84351",
   "metadata": {
    "ExecuteTime": {
     "end_time": "2023-06-01T17:59:03.949576Z",
     "start_time": "2023-06-01T17:59:03.765321Z"
    }
   },
   "outputs": [],
   "source": [
    "# Create the figure and axis objects\n",
    "fig, (ax1, ax2) = plt.subplots(2, 1, figsize=(8, 10))\n",
    "\n",
    "# Create the line object for the robot position plot\n",
    "ln, = ax1.plot([], [], 'ro')\n",
    "# Set the plot limits\n",
    "ax1.set_xlim(-10, 10)\n",
    "ax1.set_ylim(-10, 10)\n",
    "\n",
    "# Create the bar plot for the number of reached/not-reached targets\n",
    "targets = ['Reached', 'Not Reached']\n",
    "target_counts = [goal_reached, targets_cancelled]\n",
    "bar_plot = ax2.bar(targets, target_counts)\n",
    "ax2.set_ylim(0,5)\n",
    "\n",
    "# Create GUI widgets\n",
    "robot_position_text = widgets.Text(description='Robot position:', value='(0, 0)')\n",
    "obstacle_distance_text = widgets.Text(description='Closest obstacle:', value='Infinity')\n"
   ]
  },
  {
   "cell_type": "code",
   "execution_count": 8,
   "id": "9594a9d5",
   "metadata": {
    "ExecuteTime": {
     "end_time": "2023-06-01T17:59:04.051140Z",
     "start_time": "2023-06-01T17:59:03.962196Z"
    },
    "scrolled": true
   },
   "outputs": [],
   "source": [
    "rospy.Subscriber('/scan', LaserScan, laser_callback)\n",
    "rospy.Subscriber('/reaching_goal/result', assignment_2_2022.msg.PlanningActionResult , callback_result)\n",
    "rospy.Subscriber('/robot_informations', odom_custom_msg  , position_callback)\n",
    "client = actionlib.SimpleActionClient('/reaching_goal',assignment_2_2022.msg.PlanningAction )"
   ]
  },
  {
   "cell_type": "code",
   "execution_count": 9,
   "id": "61137d34",
   "metadata": {
    "ExecuteTime": {
     "end_time": "2023-06-01T17:59:04.099881Z",
     "start_time": "2023-06-01T17:59:04.060471Z"
    },
    "scrolled": true
   },
   "outputs": [
    {
     "data": {
      "application/vnd.jupyter.widget-view+json": {
       "model_id": "fa80c7f5cb64475b8d695adcdde4e7bd",
       "version_major": 2,
       "version_minor": 0
      },
      "text/plain": [
       "VBox(children=(Text(value='(0, 0)', description='Robot position:'), Text(value='Infinity', description='Closes…"
      ]
     },
     "metadata": {},
     "output_type": "display_data"
    }
   ],
   "source": [
    "#Graphic Interface\n",
    "gui_layout = widgets.VBox([robot_position_text, obstacle_distance_text])\n",
    "display(gui_layout)\n",
    "ani = FuncAnimation(fig, update_plot, interval=100)\n",
    "plt.show()\n"
   ]
  },
  {
   "cell_type": "code",
   "execution_count": 13,
   "id": "f1e88f01",
   "metadata": {
    "ExecuteTime": {
     "end_time": "2023-06-01T18:00:10.886842Z",
     "start_time": "2023-06-01T18:00:10.873777Z"
    }
   },
   "outputs": [],
   "source": [
    "# Define callback function for target set button\n",
    "def set_button_callback(sender):\n",
    "    global x_goal, y_goal\n",
    "    # Get x and y coordinates from text boxes\n",
    "    x_goal = float(x_textbox.value)\n",
    "    y_goal = float(y_textbox.value)\n",
    "\n",
    "    #Creating the goal\n",
    "    client_goal = PoseStamped()\n",
    "    client_goal.pose.position.x = x_goal\n",
    "    client_goal.pose.position.y = y_goal\n",
    "\n",
    "    client_goal = assignment_2_2022.msg.PlanningGoal(client_goal)\n",
    "\n",
    "    client.send_goal(client_goal)\n",
    "\n"
   ]
  },
  {
   "cell_type": "code",
   "execution_count": null,
   "id": "b4757048",
   "metadata": {},
   "outputs": [],
   "source": [
    "# Define callback function for target set button\n",
    "def stop_button_callback(bot):\n",
    "    global client\n",
    "    client.wait_for_server()\n",
    "    client.cancel_goal()"
   ]
  },
  {
   "cell_type": "code",
   "execution_count": 14,
   "id": "b5c9191f",
   "metadata": {
    "ExecuteTime": {
     "end_time": "2023-06-01T18:00:12.062365Z",
     "start_time": "2023-06-01T18:00:12.057726Z"
    }
   },
   "outputs": [],
   "source": [
    "client_goal = PlanningGoal()"
   ]
  },
  {
   "cell_type": "code",
   "execution_count": 15,
   "id": "30fac83e",
   "metadata": {
    "ExecuteTime": {
     "end_time": "2023-06-01T18:00:14.991023Z",
     "start_time": "2023-06-01T18:00:14.935942Z"
    }
   },
   "outputs": [
    {
     "data": {
      "application/vnd.jupyter.widget-view+json": {
       "model_id": "86b0b5544ee84431955ce9b2e4c9155b",
       "version_major": 2,
       "version_minor": 0
      },
      "text/plain": [
       "HBox(children=(FloatText(value=0.0, description='X:'), FloatText(value=0.0, description='Y:'), Button(descript…"
      ]
     },
     "metadata": {},
     "output_type": "display_data"
    }
   ],
   "source": [
    "# Buttons definition: set and stop buttons\n",
    "x_textbox = widgets.FloatText(description='X:')\n",
    "y_textbox = widgets.FloatText(description='Y:')\n",
    "set_button = widgets.Button(description='Set Target')\n",
    "stop_button = widgets.Button(description='Cancel Target')\n",
    "set_button.on_click(set_button_callback)\n",
    "stop_button.on_click(stop_button_callback)\n",
    "display(widgets.HBox([x_textbox, y_textbox, set_button, stop_button]))"
   ]
  },
  {
   "cell_type": "code",
   "execution_count": null,
   "id": "fb03f913",
   "metadata": {},
   "outputs": [],
   "source": []
  }
 ],
 "metadata": {
  "kernelspec": {
   "display_name": "Python 3 (ipykernel)",
   "language": "python",
   "name": "python3"
  },
  "language_info": {
   "codemirror_mode": {
    "name": "ipython",
    "version": 3
   },
   "file_extension": ".py",
   "mimetype": "text/x-python",
   "name": "python",
   "nbconvert_exporter": "python",
   "pygments_lexer": "ipython3",
   "version": "3.10.6"
  },
  "toc": {
   "base_numbering": 1,
   "nav_menu": {},
   "number_sections": true,
   "sideBar": true,
   "skip_h1_title": false,
   "title_cell": "Table of Contents",
   "title_sidebar": "Contents",
   "toc_cell": false,
   "toc_position": {},
   "toc_section_display": true,
   "toc_window_display": false
  },
  "varInspector": {
   "cols": {
    "lenName": 16,
    "lenType": 16,
    "lenVar": 40
   },
   "kernels_config": {
    "python": {
     "delete_cmd_postfix": "",
     "delete_cmd_prefix": "del ",
     "library": "var_list.py",
     "varRefreshCmd": "print(var_dic_list())"
    },
    "r": {
     "delete_cmd_postfix": ") ",
     "delete_cmd_prefix": "rm(",
     "library": "var_list.r",
     "varRefreshCmd": "cat(var_dic_list()) "
    }
   },
   "types_to_exclude": [
    "module",
    "function",
    "builtin_function_or_method",
    "instance",
    "_Feature"
   ],
   "window_display": false
  }
 },
 "nbformat": 4,
 "nbformat_minor": 5
}
